{
 "cells": [
  {
   "cell_type": "markdown",
   "metadata": {},
   "source": [
    "My 5 year old kid got a surprise egg from his gradma. There was a minion inside. \"Hoorey\", I heard. \"I only need to get 7 more surprise eggs to have them all!\".\n",
    "\n",
    "\"Oh, do you?\", I thought. \"I wonder how many more I would statiscicaly need to buy for you to collect them.\"\n",
    "\n",
    "Later I searched for an answer on the internet and I couldnt find any formula. Therefore I decided to simulate it:"
   ]
  },
  {
   "cell_type": "code",
   "execution_count": 1,
   "metadata": {
    "collapsed": false
   },
   "outputs": [],
   "source": [
    "import matplotlib.pyplot as plt\n",
    "import numpy as np\n",
    "import random\n",
    "\n",
    "%matplotlib inline  \n",
    "\n",
    "# items_no: number of unique items in the collection\n",
    "def collect_all(items_no):\n",
    "    bought = []\n",
    "    collection = []\n",
    "\n",
    "    while len(collection) < items_no:\n",
    "        buy = random.randint(1, items_no)\n",
    "        bought.append(buy)\n",
    "        if buy not in collection:\n",
    "            collection.append(buy)\n",
    "    return collection, bought\n",
    "\n",
    "def repeat_collecting(repeats_no, items_no):\n",
    "    buys = [] # number of buys made to collect\n",
    "    for i in range(repeats_no):\n",
    "        c, b = collect_all(items_no)\n",
    "        buys.append(len(b))\n",
    "    return buys"
   ]
  },
  {
   "cell_type": "code",
   "execution_count": 2,
   "metadata": {
    "collapsed": false,
    "scrolled": false
   },
   "outputs": [
    {
     "data": {
      "image/png": "[encoded data removed]",
      "text/plain": [
       "<matplotlib.figure.Figure at 0x1033c1910>"
      ]
     },
     "metadata": {},
     "output_type": "display_data"
    }
   ],
   "source": [
    "repeats = 1000000  # 1M\n",
    "items_no = 8\n",
    "\n",
    "buys = repeat_collecting(repeats, items_no)\n",
    "\n",
    "# show as many bars as necessary to show full range with a bar per value\n",
    "plt.title(\"How many Surprise Eggs do I need to buy to collect \" +\n",
    "          str(items_no) + \n",
    "          \" unique items? \\n\")\n",
    "plt.ylabel(\"Frequency per \"+str(repeats)+\" repeats\")\n",
    "plt.xlabel(\"Number of buys to collect \" +str(items_no)+ \" unique items\")\n",
    "_ = plt.hist(buys, bins = max(buys)-min(buys)+1)"
   ]
  },
  {
   "cell_type": "code",
   "execution_count": 3,
   "metadata": {
    "collapsed": false
   },
   "outputs": [
    {
     "name": "stdout",
     "output_type": "stream",
     "text": [
      "Mean:\t21.738511\n",
      "Median:\t20.0\n",
      "Mode:\t17\n"
     ]
    }
   ],
   "source": [
    "print \"Mean:\\t\" + str(np.mean(buys))\n",
    "print \"Median:\\t\" + str(np.median(buys))\n",
    "print \"Mode:\\t\" + str(np.argmax(np.bincount(buys)))"
   ]
  },
  {
   "cell_type": "markdown",
   "metadata": {},
   "source": [
    "### Summary\n",
    "\n",
    "After running the simmulation 1 million times I got the following answer:\n",
    "\n",
    "* The **most common** scenario is buying `17 surprise eggs` to collect the whole set of 8 minions.\n",
    "* The **average** number you would buy, however, is almost `22 eggs`.\n",
    "* With this magnitude of repeats, the results for the average differ very slightly (by ~0.01%)"
   ]
  }
 ],
 "metadata": {
  "kernelspec": {
   "display_name": "Python 2",
   "language": "python",
   "name": "python2"
  },
  "language_info": {
   "codemirror_mode": {
    "name": "ipython",
    "version": 2
   },
   "file_extension": ".py",
   "mimetype": "text/x-python",
   "name": "python",
   "nbconvert_exporter": "python",
   "pygments_lexer": "ipython2",
   "version": "2.7.10"
  }
 },
 "nbformat": 4,
 "nbformat_minor": 0
}
